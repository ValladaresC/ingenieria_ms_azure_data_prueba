{
 "cells": [
  {
   "cell_type": "markdown",
   "metadata": {
    "application/vnd.databricks.v1+cell": {
     "cellMetadata": {},
     "inputWidgets": {},
     "nuid": "91ff8cbe-991d-4e40-a962-ebb9cfb4a403",
     "showTitle": false,
     "tableResultSettingsMap": {},
     "title": ""
    }
   },
   "source": [
    "##### Establecemos una conexión segura con el Azure Data Lake Storage mediante la creación de un secret scope."
   ]
  },
  {
   "cell_type": "code",
   "execution_count": 0,
   "metadata": {
    "application/vnd.databricks.v1+cell": {
     "cellMetadata": {
      "byteLimit": 2048000,
      "rowLimit": 10000
     },
     "inputWidgets": {},
     "nuid": "19e33b31-ad82-4216-821c-1bbe750fb3af",
     "showTitle": false,
     "tableResultSettingsMap": {},
     "title": ""
    }
   },
   "outputs": [
    {
     "output_type": "display_data",
     "data": {
      "text/html": [
       "<style scoped>\n",
       "  .ansiout {\n",
       "    display: block;\n",
       "    unicode-bidi: embed;\n",
       "    white-space: pre-wrap;\n",
       "    word-wrap: break-word;\n",
       "    word-break: break-all;\n",
       "    font-family: \"Menlo\", \"Monaco\", \"Consolas\", \"Ubuntu Mono\", \"Source Code Pro\", monospace;\n",
       "    font-size: 13px;\n",
       "    color: #555;\n",
       "    margin-left: 4px;\n",
       "    line-height: 19px;\n",
       "  }\n",
       "</style>\n",
       "<div class=\"ansiout\">res3: Seq[com.databricks.dbutils_v1.SecretScope] = Vector(SecretScope(secret-scope-proyecto))\n",
       "</div>"
      ]
     },
     "metadata": {
      "application/vnd.databricks.v1+output": {
       "addedWidgets": {},
       "arguments": {},
       "data": "<div class=\"ansiout\">res3: Seq[com.databricks.dbutils_v1.SecretScope] = Vector(SecretScope(secret-scope-proyecto))\n</div>",
       "datasetInfos": [],
       "metadata": {
        "isDbfsCommandResult": false
       },
       "removedWidgets": [],
       "type": "html"
      }
     },
     "output_type": "display_data"
    }
   ],
   "source": [
    "\n",
    "dbutils.secrets.listScopes()"
   ]
  },
  {
   "cell_type": "code",
   "execution_count": 0,
   "metadata": {
    "application/vnd.databricks.v1+cell": {
     "cellMetadata": {
      "byteLimit": 2048000,
      "rowLimit": 10000
     },
     "inputWidgets": {},
     "nuid": "9fb7969a-8550-4741-8a69-fcd8f4bfd54c",
     "showTitle": false,
     "tableResultSettingsMap": {},
     "title": ""
    }
   },
   "outputs": [
    {
     "output_type": "display_data",
     "data": {
      "text/html": [
       "<style scoped>\n",
       "  .ansiout {\n",
       "    display: block;\n",
       "    unicode-bidi: embed;\n",
       "    white-space: pre-wrap;\n",
       "    word-wrap: break-word;\n",
       "    word-break: break-all;\n",
       "    font-family: \"Menlo\", \"Monaco\", \"Consolas\", \"Ubuntu Mono\", \"Source Code Pro\", monospace;\n",
       "    font-size: 13px;\n",
       "    color: #555;\n",
       "    margin-left: 4px;\n",
       "    line-height: 19px;\n",
       "  }\n",
       "</style>\n",
       "<div class=\"ansiout\">secretScope: String = secret-scope-proyecto\n",
       "adlsName: String = adlseu2dsrpd01cv\n",
       "adlsAccessKey: String = [REDACTED]\n",
       "</div>"
      ]
     },
     "metadata": {
      "application/vnd.databricks.v1+output": {
       "addedWidgets": {},
       "arguments": {},
       "data": "<div class=\"ansiout\">secretScope: String = secret-scope-proyecto\nadlsName: String = adlseu2dsrpd01cv\nadlsAccessKey: String = [REDACTED]\n</div>",
       "datasetInfos": [],
       "metadata": {
        "isDbfsCommandResult": false
       },
       "removedWidgets": [],
       "type": "html"
      }
     },
     "output_type": "display_data"
    }
   ],
   "source": [
    "val secretScope = \"secret-scope-proyecto\"\n",
    "val adlsName = \"adlseu2dsrpd01cv\"\n",
    "val adlsAccessKey = dbutils.secrets.get(scope = secretScope, key = \"key-adlseu2dsrpd01cv\")"
   ]
  },
  {
   "cell_type": "code",
   "execution_count": 0,
   "metadata": {
    "application/vnd.databricks.v1+cell": {
     "cellMetadata": {
      "byteLimit": 2048000,
      "rowLimit": 10000
     },
     "inputWidgets": {},
     "nuid": "8018af08-e3ce-4594-9faf-5d9b25729870",
     "showTitle": false,
     "tableResultSettingsMap": {},
     "title": ""
    }
   },
   "outputs": [
    {
     "output_type": "display_data",
     "data": {
      "text/html": [
       "<style scoped>\n",
       "  .ansiout {\n",
       "    display: block;\n",
       "    unicode-bidi: embed;\n",
       "    white-space: pre-wrap;\n",
       "    word-wrap: break-word;\n",
       "    word-break: break-all;\n",
       "    font-family: \"Menlo\", \"Monaco\", \"Consolas\", \"Ubuntu Mono\", \"Source Code Pro\", monospace;\n",
       "    font-size: 13px;\n",
       "    color: #555;\n",
       "    margin-left: 4px;\n",
       "    line-height: 19px;\n",
       "  }\n",
       "</style>\n",
       "<div class=\"ansiout\"></div>"
      ]
     },
     "metadata": {
      "application/vnd.databricks.v1+output": {
       "addedWidgets": {},
       "arguments": {},
       "data": "<div class=\"ansiout\"></div>",
       "datasetInfos": [],
       "metadata": {
        "isDbfsCommandResult": false
       },
       "removedWidgets": [],
       "type": "html"
      }
     },
     "output_type": "display_data"
    }
   ],
   "source": [
    "spark.conf.set(s\"fs.azure.account.key.${adlsName}.dfs.core.windows.net\", adlsAccessKey)"
   ]
  },
  {
   "cell_type": "code",
   "execution_count": 0,
   "metadata": {
    "application/vnd.databricks.v1+cell": {
     "cellMetadata": {
      "byteLimit": 2048000,
      "rowLimit": 10000
     },
     "inputWidgets": {},
     "nuid": "487995c0-7baa-4d4b-a718-3cf44cf29841",
     "showTitle": false,
     "tableResultSettingsMap": {},
     "title": ""
    }
   },
   "outputs": [
    {
     "output_type": "display_data",
     "data": {
      "text/html": [
       "<style scoped>\n",
       "  .ansiout {\n",
       "    display: block;\n",
       "    unicode-bidi: embed;\n",
       "    white-space: pre-wrap;\n",
       "    word-wrap: break-word;\n",
       "    word-break: break-all;\n",
       "    font-family: \"Menlo\", \"Monaco\", \"Consolas\", \"Ubuntu Mono\", \"Source Code Pro\", monospace;\n",
       "    font-size: 13px;\n",
       "    color: #555;\n",
       "    margin-left: 4px;\n",
       "    line-height: 19px;\n",
       "  }\n",
       "</style>\n",
       "<div class=\"ansiout\">res5: Seq[com.databricks.backend.daemon.dbutils.FileInfo] = ArrayBuffer(FileInfo(abfss://data@adlseu2dsrpd01cv.dfs.core.windows.net/archivoscsv/Alumnos.csv, Alumnos.csv, 138, 1724635127000), FileInfo(abfss://data@adlseu2dsrpd01cv.dfs.core.windows.net/archivoscsv/Cursos.csv, Cursos.csv, 60, 1724635124000), FileInfo(abfss://data@adlseu2dsrpd01cv.dfs.core.windows.net/archivoscsv/Notas.csv, Notas.csv, 173, 1724635126000))\n",
       "</div>"
      ]
     },
     "metadata": {
      "application/vnd.databricks.v1+output": {
       "addedWidgets": {},
       "arguments": {},
       "data": "<div class=\"ansiout\">res5: Seq[com.databricks.backend.daemon.dbutils.FileInfo] = ArrayBuffer(FileInfo(abfss://data@adlseu2dsrpd01cv.dfs.core.windows.net/archivoscsv/Alumnos.csv, Alumnos.csv, 138, 1724635127000), FileInfo(abfss://data@adlseu2dsrpd01cv.dfs.core.windows.net/archivoscsv/Cursos.csv, Cursos.csv, 60, 1724635124000), FileInfo(abfss://data@adlseu2dsrpd01cv.dfs.core.windows.net/archivoscsv/Notas.csv, Notas.csv, 173, 1724635126000))\n</div>",
       "datasetInfos": [],
       "metadata": {
        "isDbfsCommandResult": false
       },
       "removedWidgets": [],
       "type": "html"
      }
     },
     "output_type": "display_data"
    }
   ],
   "source": [
    "dbutils.fs.ls(\"abfss://data@adlseu2dsrpd01cv.dfs.core.windows.net/archivoscsv\")"
   ]
  },
  {
   "cell_type": "markdown",
   "metadata": {
    "application/vnd.databricks.v1+cell": {
     "cellMetadata": {},
     "inputWidgets": {},
     "nuid": "7cab92cf-6df5-4a3b-8034-7fbab4011916",
     "showTitle": false,
     "tableResultSettingsMap": {},
     "title": ""
    }
   },
   "source": [
    "##### Leyendo archivos .csv desde el Azure Data Lake Storage"
   ]
  },
  {
   "cell_type": "code",
   "execution_count": 0,
   "metadata": {
    "application/vnd.databricks.v1+cell": {
     "cellMetadata": {
      "byteLimit": 2048000,
      "rowLimit": 10000
     },
     "inputWidgets": {},
     "nuid": "7347b853-3272-4d2b-8d1c-f58f2325264a",
     "showTitle": false,
     "tableResultSettingsMap": {},
     "title": ""
    }
   },
   "outputs": [
    {
     "output_type": "display_data",
     "data": {
      "text/html": [
       "<style scoped>\n",
       "  .ansiout {\n",
       "    display: block;\n",
       "    unicode-bidi: embed;\n",
       "    white-space: pre-wrap;\n",
       "    word-wrap: break-word;\n",
       "    word-break: break-all;\n",
       "    font-family: \"Menlo\", \"Monaco\", \"Consolas\", \"Ubuntu Mono\", \"Source Code Pro\", monospace;\n",
       "    font-size: 13px;\n",
       "    color: #555;\n",
       "    margin-left: 4px;\n",
       "    line-height: 19px;\n",
       "  }\n",
       "</style>\n",
       "<div class=\"ansiout\">file_location1: String = abfss://data@adlseu2dsrpd01cv.dfs.core.windows.net/archivoscsv/Alumnos.csv\n",
       "file_location2: String = abfss://data@adlseu2dsrpd01cv.dfs.core.windows.net/archivoscsv/Cursos.csv\n",
       "file_location3: String = abfss://data@adlseu2dsrpd01cv.dfs.core.windows.net/archivoscsv/Notas.csv\n",
       "file_type: String = csv\n",
       "infer_schema: String = true\n",
       "first_row_is_header: String = true\n",
       "delimiter: String = ,\n",
       "alumnos: org.apache.spark.sql.DataFrame = [idAlumno: int, nombre: string ... 1 more field]\n",
       "cursos: org.apache.spark.sql.DataFrame = [idCurso: int, nombreCurso: string]\n",
       "notas: org.apache.spark.sql.DataFrame = [idNota: int, nota: int ... 2 more fields]\n",
       "</div>"
      ]
     },
     "metadata": {
      "application/vnd.databricks.v1+output": {
       "addedWidgets": {},
       "arguments": {},
       "data": "<div class=\"ansiout\">file_location1: String = abfss://data@adlseu2dsrpd01cv.dfs.core.windows.net/archivoscsv/Alumnos.csv\nfile_location2: String = abfss://data@adlseu2dsrpd01cv.dfs.core.windows.net/archivoscsv/Cursos.csv\nfile_location3: String = abfss://data@adlseu2dsrpd01cv.dfs.core.windows.net/archivoscsv/Notas.csv\nfile_type: String = csv\ninfer_schema: String = true\nfirst_row_is_header: String = true\ndelimiter: String = ,\nalumnos: org.apache.spark.sql.DataFrame = [idAlumno: int, nombre: string ... 1 more field]\ncursos: org.apache.spark.sql.DataFrame = [idCurso: int, nombreCurso: string]\nnotas: org.apache.spark.sql.DataFrame = [idNota: int, nota: int ... 2 more fields]\n</div>",
       "datasetInfos": [
        {
         "name": "alumnos",
         "schema": {
          "fields": [
           {
            "metadata": {},
            "name": "idAlumno",
            "nullable": true,
            "type": "integer"
           },
           {
            "metadata": {},
            "name": "nombre",
            "nullable": true,
            "type": "string"
           },
           {
            "metadata": {},
            "name": "apellido",
            "nullable": true,
            "type": "string"
           }
          ],
          "type": "struct"
         },
         "tableIdentifier": null,
         "typeStr": "org.apache.spark.sql.DataFrame"
        },
        {
         "name": "cursos",
         "schema": {
          "fields": [
           {
            "metadata": {},
            "name": "idCurso",
            "nullable": true,
            "type": "integer"
           },
           {
            "metadata": {},
            "name": "nombreCurso",
            "nullable": true,
            "type": "string"
           }
          ],
          "type": "struct"
         },
         "tableIdentifier": null,
         "typeStr": "org.apache.spark.sql.DataFrame"
        },
        {
         "name": "notas",
         "schema": {
          "fields": [
           {
            "metadata": {},
            "name": "idNota",
            "nullable": true,
            "type": "integer"
           },
           {
            "metadata": {},
            "name": "nota",
            "nullable": true,
            "type": "integer"
           },
           {
            "metadata": {},
            "name": "idAlumno",
            "nullable": true,
            "type": "integer"
           },
           {
            "metadata": {},
            "name": "idCurso",
            "nullable": true,
            "type": "integer"
           }
          ],
          "type": "struct"
         },
         "tableIdentifier": null,
         "typeStr": "org.apache.spark.sql.DataFrame"
        }
       ],
       "metadata": {
        "isDbfsCommandResult": false
       },
       "removedWidgets": [],
       "type": "html"
      }
     },
     "output_type": "display_data"
    }
   ],
   "source": [
    "// Tipo y ubicación del archivo\n",
    "val file_location1 = \"abfss://data@adlseu2dsrpd01cv.dfs.core.windows.net/archivoscsv/Alumnos.csv\"\n",
    "val file_location2 = \"abfss://data@adlseu2dsrpd01cv.dfs.core.windows.net/archivoscsv/Cursos.csv\"\n",
    "val file_location3 = \"abfss://data@adlseu2dsrpd01cv.dfs.core.windows.net/archivoscsv/Notas.csv\"\n",
    "val file_type = \"csv\"\n",
    "\n",
    "// Opciones CSV\n",
    "val infer_schema = \"true\"\n",
    "val first_row_is_header = \"true\"\n",
    "val delimiter = \",\"\n",
    "\n",
    "// Lectura del archivo csv con las opciones definidas file_location1\n",
    "val alumnos = spark.read.format(file_type)\n",
    "  .option(\"inferSchema\", infer_schema)\n",
    "  .option(\"header\", first_row_is_header)\n",
    "  .option(\"sep\", delimiter)\n",
    "  .load(file_location1)\n",
    "\n",
    "// Lectura del archivo csv con las opciones definidas file_location2\n",
    "val cursos = spark.read.format(file_type)\n",
    "  .option(\"inferSchema\", infer_schema)\n",
    "  .option(\"header\", first_row_is_header)\n",
    "  .option(\"sep\", delimiter)\n",
    "  .load(file_location2)\n",
    "\n",
    "// Lectura del archivo csv con las opciones definidas file_location3\n",
    "val notas = spark.read.format(file_type)\n",
    "  .option(\"inferSchema\", infer_schema)\n",
    "  .option(\"header\", first_row_is_header)\n",
    "  .option(\"sep\", delimiter)\n",
    "  .load(file_location3)"
   ]
  },
  {
   "cell_type": "markdown",
   "metadata": {
    "application/vnd.databricks.v1+cell": {
     "cellMetadata": {
      "byteLimit": 2048000,
      "rowLimit": 10000
     },
     "inputWidgets": {},
     "nuid": "522543a4-040f-4772-8762-9aca6b12eaa1",
     "showTitle": false,
     "tableResultSettingsMap": {},
     "title": ""
    }
   },
   "source": [
    "##### Convertimos los DF generados en vistas temporales para trabajar con SQL"
   ]
  },
  {
   "cell_type": "code",
   "execution_count": 0,
   "metadata": {
    "application/vnd.databricks.v1+cell": {
     "cellMetadata": {
      "byteLimit": 2048000,
      "rowLimit": 10000
     },
     "inputWidgets": {},
     "nuid": "ad12caa7-decf-478d-ab9b-8ef00c198f48",
     "showTitle": false,
     "tableResultSettingsMap": {},
     "title": ""
    }
   },
   "outputs": [
    {
     "output_type": "display_data",
     "data": {
      "text/html": [
       "<style scoped>\n",
       "  .ansiout {\n",
       "    display: block;\n",
       "    unicode-bidi: embed;\n",
       "    white-space: pre-wrap;\n",
       "    word-wrap: break-word;\n",
       "    word-break: break-all;\n",
       "    font-family: \"Menlo\", \"Monaco\", \"Consolas\", \"Ubuntu Mono\", \"Source Code Pro\", monospace;\n",
       "    font-size: 13px;\n",
       "    color: #555;\n",
       "    margin-left: 4px;\n",
       "    line-height: 19px;\n",
       "  }\n",
       "</style>\n",
       "<div class=\"ansiout\"></div>"
      ]
     },
     "metadata": {
      "application/vnd.databricks.v1+output": {
       "addedWidgets": {},
       "arguments": {},
       "data": "<div class=\"ansiout\"></div>",
       "datasetInfos": [],
       "metadata": {
        "isDbfsCommandResult": false
       },
       "removedWidgets": [],
       "type": "html"
      }
     },
     "output_type": "display_data"
    }
   ],
   "source": [
    "alumnos.createOrReplaceTempView(\"v_alumnos\")\n",
    "cursos.createOrReplaceTempView(\"v_cursos\")\n",
    "notas.createOrReplaceTempView(\"v_notas\")"
   ]
  },
  {
   "cell_type": "code",
   "execution_count": 0,
   "metadata": {
    "application/vnd.databricks.v1+cell": {
     "cellMetadata": {
      "byteLimit": 2048000,
      "rowLimit": 10000
     },
     "inputWidgets": {},
     "nuid": "da682fa9-1906-4f67-88f0-44cc0999eba8",
     "showTitle": false,
     "tableResultSettingsMap": {},
     "title": ""
    }
   },
   "outputs": [
    {
     "output_type": "display_data",
     "data": {
      "text/html": [
       "<style scoped>\n",
       "  .table-result-container {\n",
       "    max-height: 300px;\n",
       "    overflow: auto;\n",
       "  }\n",
       "  table, th, td {\n",
       "    border: 1px solid black;\n",
       "    border-collapse: collapse;\n",
       "  }\n",
       "  th, td {\n",
       "    padding: 5px;\n",
       "  }\n",
       "  th {\n",
       "    text-align: left;\n",
       "  }\n",
       "</style><div class='table-result-container'><table class='table-result'><thead style='background-color: white'><tr><th>NombreAlumno</th><th>nombreCurso</th><th>nota</th></tr></thead><tbody><tr><td>Carlos Valladares</td><td>Fundamentos</td><td>8</td></tr><tr><td>Carlos Valladares</td><td>Spark</td><td>10</td></tr><tr><td>Carlos Valladares</td><td>Cloud</td><td>10</td></tr><tr><td>Maria Robles</td><td>Fundamentos</td><td>5</td></tr><tr><td>Maria Robles</td><td>Spark</td><td>9</td></tr><tr><td>Maria Robles</td><td>Cloud</td><td>8</td></tr><tr><td>Pedro Martinez</td><td>Fundamentos</td><td>5</td></tr><tr><td>Pedro Martinez</td><td>Spark</td><td>3</td></tr><tr><td>Pedro Martinez</td><td>Cloud</td><td>5</td></tr><tr><td>Josefa Calzadilla</td><td>Fundamentos</td><td>2</td></tr><tr><td>Josefa Calzadilla</td><td>Spark</td><td>4</td></tr><tr><td>Josefa Calzadilla</td><td>Cloud</td><td>4</td></tr><tr><td>Felix Arocha</td><td>Fundamentos</td><td>6</td></tr><tr><td>Felix Arocha</td><td>Spark</td><td>7</td></tr><tr><td>Felix Arocha</td><td>Cloud</td><td>3</td></tr></tbody></table></div>"
      ]
     },
     "metadata": {
      "application/vnd.databricks.v1+output": {
       "addedWidgets": {},
       "aggData": [],
       "aggError": "",
       "aggOverflow": false,
       "aggSchema": [],
       "aggSeriesLimitReached": false,
       "aggType": "",
       "arguments": {},
       "columnCustomDisplayInfos": {},
       "data": [
        [
         "Carlos Valladares",
         "Fundamentos",
         8
        ],
        [
         "Carlos Valladares",
         "Spark",
         10
        ],
        [
         "Carlos Valladares",
         "Cloud",
         10
        ],
        [
         "Maria Robles",
         "Fundamentos",
         5
        ],
        [
         "Maria Robles",
         "Spark",
         9
        ],
        [
         "Maria Robles",
         "Cloud",
         8
        ],
        [
         "Pedro Martinez",
         "Fundamentos",
         5
        ],
        [
         "Pedro Martinez",
         "Spark",
         3
        ],
        [
         "Pedro Martinez",
         "Cloud",
         5
        ],
        [
         "Josefa Calzadilla",
         "Fundamentos",
         2
        ],
        [
         "Josefa Calzadilla",
         "Spark",
         4
        ],
        [
         "Josefa Calzadilla",
         "Cloud",
         4
        ],
        [
         "Felix Arocha",
         "Fundamentos",
         6
        ],
        [
         "Felix Arocha",
         "Spark",
         7
        ],
        [
         "Felix Arocha",
         "Cloud",
         3
        ]
       ],
       "datasetInfos": [],
       "dbfsResultPath": null,
       "isJsonSchema": true,
       "metadata": {
        "isDbfsCommandResult": false
       },
       "overflow": false,
       "plotOptions": {
        "customPlotOptions": {},
        "displayType": "table",
        "pivotAggregation": null,
        "pivotColumns": null,
        "xColumns": null,
        "yColumns": null
       },
       "removedWidgets": [],
       "schema": [
        {
         "metadata": "{}",
         "name": "NombreAlumno",
         "type": "\"string\""
        },
        {
         "metadata": "{}",
         "name": "nombreCurso",
         "type": "\"string\""
        },
        {
         "metadata": "{}",
         "name": "nota",
         "type": "\"integer\""
        }
       ],
       "type": "table"
      }
     },
     "output_type": "display_data"
    }
   ],
   "source": [
    "%sql\n",
    "select concat(nombre, \" \", apellido) as NombreAlumno, nombreCurso, nota\n",
    "from v_alumnos\n",
    "inner join v_notas on v_alumnos.idAlumno = v_notas.idAlumno\n",
    "inner join v_cursos on v_cursos.idCurso = v_notas.idCurso"
   ]
  },
  {
   "cell_type": "markdown",
   "metadata": {
    "application/vnd.databricks.v1+cell": {
     "cellMetadata": {},
     "inputWidgets": {},
     "nuid": "79c73d71-7734-48ac-994f-d9e0364b40cf",
     "showTitle": false,
     "tableResultSettingsMap": {},
     "title": ""
    }
   },
   "source": [
    "##### Creamos un dataFrame con la consulta anterior para luego convertirlo en tabla delta"
   ]
  },
  {
   "cell_type": "code",
   "execution_count": 0,
   "metadata": {
    "application/vnd.databricks.v1+cell": {
     "cellMetadata": {
      "byteLimit": 2048000,
      "rowLimit": 10000
     },
     "inputWidgets": {},
     "nuid": "4a1ae8c6-9aac-43ba-a1be-048cd1a99b22",
     "showTitle": false,
     "tableResultSettingsMap": {},
     "title": ""
    }
   },
   "outputs": [],
   "source": [
    "%python\n",
    "notas_estudiantes = spark.sql(\"\"\"\n",
    "    SELECT concat(nombre, ' ', apellido) AS NombreAlumno, nombreCurso, nota \n",
    "    FROM v_alumnos \n",
    "    INNER JOIN v_notas ON v_alumnos.idAlumno = v_notas.idAlumno \n",
    "    INNER JOIN v_cursos ON v_cursos.idCurso = v_notas.idCurso\n",
    "\"\"\")"
   ]
  },
  {
   "cell_type": "code",
   "execution_count": 0,
   "metadata": {
    "application/vnd.databricks.v1+cell": {
     "cellMetadata": {
      "byteLimit": 2048000,
      "rowLimit": 10000
     },
     "inputWidgets": {},
     "nuid": "83bae764-ad7f-46e8-a4f3-33fbe75cc8e7",
     "showTitle": false,
     "tableResultSettingsMap": {},
     "title": ""
    }
   },
   "outputs": [],
   "source": [
    "%python\n",
    "notas_estudiantes.write.format(\"delta\").mode(\"overwrite\").saveAsTable(\"delta_notas_estudiantes\")"
   ]
  }
 ],
 "metadata": {
  "application/vnd.databricks.v1+notebook": {
   "computePreferences": null,
   "dashboards": [],
   "environmentMetadata": null,
   "inputWidgetPreferences": null,
   "language": "scala",
   "notebookMetadata": {
    "pythonIndentUnit": 4
   },
   "notebookName": "Conect_Read_Load_ADLS_DBricks",
   "widgets": {}
  },
  "language_info": {
   "name": "scala"
  }
 },
 "nbformat": 4,
 "nbformat_minor": 0
}